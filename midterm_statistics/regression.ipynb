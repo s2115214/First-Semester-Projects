{
 "cells": [
  {
   "cell_type": "code",
   "execution_count": 53,
   "metadata": {},
   "outputs": [],
   "source": [
    "import numpy as np\n",
    "import pandas as pd\n",
    "from numpy.linalg import inv, matrix_rank\n",
    "from numpy import matmul\n",
    "from scipy.stats import f"
   ]
  },
  {
   "cell_type": "code",
   "execution_count": 54,
   "metadata": {},
   "outputs": [],
   "source": [
    "# R dXK, d linear restrictions and K predictors. Rank(R) = d"
   ]
  },
  {
   "cell_type": "code",
   "execution_count": 214,
   "metadata": {},
   "outputs": [
    {
     "data": {
      "text/plain": [
       "0.003942433704199765"
      ]
     },
     "execution_count": 214,
     "metadata": {},
     "output_type": "execute_result"
    }
   ],
   "source": [
    "alpha = 0.05\n",
    "df1 = 1 # rank of R. df1\n",
    "df2 = 192 # n-K\n",
    "f.ppf(alpha, df1, df2) # critical value"
   ]
  },
  {
   "cell_type": "code",
   "execution_count": 383,
   "metadata": {},
   "outputs": [],
   "source": [
    "def sim_data(betas, rows = 100):\n",
    "    xs = np.random.random((rows, len(betas)))\n",
    "    y = (xs @ betas).reshape((rows,1)) +np.random.normal(0,1,(rows,1))\n",
    "    return xs, y\n",
    "    \n",
    "    \n",
    "def estimate_beta(xs, y):\n",
    "    est = inv(xs.T @ xs) @xs.T @ y\n",
    "    return est\n",
    "    \n",
    "\n",
    "def f_stat(R, betas, xs, r, y):\n",
    "    d = matrix_rank(R)\n",
    "    #print(d)\n",
    "    n = len(xs)\n",
    "    K = len(betas)\n",
    "    e = y - xs @ betas\n",
    "    #print(e.shape)\n",
    "    upper = ((R @ betas - r).T @ inv(R @ inv(xs.T @ xs) @ R.T) @ (R@betas -r))/d\n",
    "    #print(upper)\n",
    "    sample_var = (e.T @ e)/(n-K)\n",
    "    #print(sample_var)\n",
    "    F = upper/sample_var\n",
    "    return [F, d, n-K]\n",
    "\n",
    "\n",
    "def make_R_r(*args, betas):\n",
    "    R = np.zeros((len(args), len(betas)))\n",
    "    for idx,arg in enumerate(args):\n",
    "        R[idx, arg] = 1\n",
    "    \n",
    "    r = (R @ betas).reshape((len(args),1))\n",
    "    return R, r\n",
    "        \n",
    "\n",
    "def test(F,df1, df2, alpha = 0.05):\n",
    "    crit = f.ppf(1-alpha, df1, df2)\n",
    "    if F <= crit:\n",
    "        print('Accept H0')\n",
    "    else:\n",
    "        print('Reject H0')\n",
    "    return crit\n",
    "\n",
    "\n",
    "\n",
    "def sim(betas, R, r, res = True): # puts much of the functions together. *args are desired restrictions\n",
    "    xs,y = sim_data(betas)\n",
    "    beta_est = estimate_beta(xs,y)\n",
    "    F, df1, df2 = f_stat(R, beta_est, xs, r, y)\n",
    "    if res == True:\n",
    "        crit = test(F, df1, df2)\n",
    "        print(f'{'-'*60}')\n",
    "        print(f'Critical value: {round(crit, 3)}')\n",
    "        print(f'F: {round(F[0][0],3)}')\n",
    "        print(f'beta estimates: {[n for n in beta_est]}')\n",
    "        print(f'True betas: {[n for n in betas]}')\n",
    "    else:\n",
    "        crit = f.ppf(1-0.05, df1, df2)\n",
    "    return crit, F\n",
    "    "
   ]
  },
  {
   "cell_type": "code",
   "execution_count": 384,
   "metadata": {},
   "outputs": [
    {
     "name": "stdout",
     "output_type": "stream",
     "text": [
      "Accept H0\n",
      "------------------------------------------------------------\n",
      "Critical value: 2.699\n",
      "F: 1.961\n",
      "beta estimates: [array([0.35698822]), array([5.3527284]), array([3.31394643]), array([8.22685863])]\n",
      "True betas: [array([1]), array([5]), array([3]), array([8])]\n"
     ]
    }
   ],
   "source": [
    "betas = np.array([1,5,3,8]).reshape((4,1))\n",
    "R, r = make_R_r(1,3, [1,2,3], betas=betas)\n",
    "crit, F = sim(betas, R, r)"
   ]
  },
  {
   "cell_type": "code",
   "execution_count": 393,
   "metadata": {},
   "outputs": [
    {
     "name": "stdout",
     "output_type": "stream",
     "text": [
      "53\n",
      "1000\n",
      "Rejected 5.3% of simulations\n"
     ]
    }
   ],
   "source": [
    "n = 0\n",
    "reject = 0\n",
    "for i in range(1000):\n",
    "    betas = np.array([1,5,3,8]).reshape((4,1))\n",
    "    R, r = make_R_r(1,3, [1,2,3], betas=betas)\n",
    "    crit, F = sim(betas, R, r, res=False)\n",
    "    if F>crit:\n",
    "        reject += 1\n",
    "    else:\n",
    "        pass\n",
    "    n += 1\n",
    "print(reject)\n",
    "print(n)\n",
    "print(f'Rejected {reject/n*100}% of simulations')\n",
    "    \n",
    "    "
   ]
  },
  {
   "cell_type": "code",
   "execution_count": null,
   "metadata": {},
   "outputs": [],
   "source": []
  }
 ],
 "metadata": {
  "kernelspec": {
   "display_name": "base",
   "language": "python",
   "name": "python3"
  },
  "language_info": {
   "codemirror_mode": {
    "name": "ipython",
    "version": 3
   },
   "file_extension": ".py",
   "mimetype": "text/x-python",
   "name": "python",
   "nbconvert_exporter": "python",
   "pygments_lexer": "ipython3",
   "version": "3.12.2"
  }
 },
 "nbformat": 4,
 "nbformat_minor": 2
}
