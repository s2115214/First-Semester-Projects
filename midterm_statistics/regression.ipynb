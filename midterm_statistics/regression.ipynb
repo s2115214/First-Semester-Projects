{
 "cells": [
  {
   "cell_type": "code",
   "execution_count": 1,
   "metadata": {},
   "outputs": [],
   "source": [
    "import numpy as np\n",
    "import pandas as pd\n",
    "from numpy.linalg import inv, matrix_rank\n",
    "from numpy import matmul\n",
    "from scipy.stats import f"
   ]
  },
  {
   "cell_type": "code",
   "execution_count": 2,
   "metadata": {},
   "outputs": [],
   "source": [
    "# R dXK, d linear restrictions and K predictors. Rank(R) = d"
   ]
  },
  {
   "cell_type": "code",
   "execution_count": 3,
   "metadata": {},
   "outputs": [
    {
     "data": {
      "text/plain": [
       "0.003942433704199765"
      ]
     },
     "execution_count": 3,
     "metadata": {},
     "output_type": "execute_result"
    }
   ],
   "source": [
    "alpha = 0.05\n",
    "df1 = 1 # rank of R. df1\n",
    "df2 = 192 # n-K\n",
    "f.ppf(alpha, df1, df2) # critical value"
   ]
  },
  {
   "cell_type": "code",
   "execution_count": 39,
   "metadata": {},
   "outputs": [],
   "source": [
    "def sim_data(betas, rows = 1000):\n",
    "    xs = np.random.random((rows, len(betas)))\n",
    "    y = (xs @ betas).reshape((rows,1)) +np.random.normal(0,1,(rows,1))\n",
    "    return xs, y\n",
    "    \n",
    "    \n",
    "def estimate_beta(xs, y):\n",
    "    est = inv(xs.T @ xs) @xs.T @ y\n",
    "    return est\n",
    "    \n",
    "\n",
    "def f_stat(R, betas, xs, r, y):\n",
    "    d = matrix_rank(R)\n",
    "    #print(d)\n",
    "    n = len(xs)\n",
    "    K = len(betas)\n",
    "    e = y - xs @ betas\n",
    "    #print(e.shape)\n",
    "    upper = ((R @ betas - r).T @ inv(R @ inv(xs.T @ xs) @ R.T) @ (R@betas -r))/d\n",
    "    #print(upper)\n",
    "    sample_var = (e.T @ e)/(n-K)\n",
    "    #print(sample_var)\n",
    "    F = upper/sample_var\n",
    "    return [F, d, n-K]\n",
    "\n",
    "\n",
    "def make_R_r(*args, betas):\n",
    "    R = np.zeros((len(args), len(betas)))\n",
    "    for idx,arg in enumerate(args):\n",
    "        R[idx, arg] = 1\n",
    "    \n",
    "    r = (R @ betas).reshape((len(args),1))\n",
    "    return R, r\n",
    "        \n",
    "\n",
    "def test(F,df1, df2, alpha = 0.05):\n",
    "    crit = f.ppf(1-alpha, df1, df2)\n",
    "    if F <= crit:\n",
    "        print('Accept H0')\n",
    "    else:\n",
    "        print('Reject H0')\n",
    "    return crit\n",
    "\n",
    "\n",
    "\n",
    "def sim(betas, R, r, res = True): # puts much of the functions together. *args are desired restrictions\n",
    "    xs,y = sim_data(betas)\n",
    "    beta_est = estimate_beta(xs,y)\n",
    "    F, df1, df2 = f_stat(R, beta_est, xs, r, y)\n",
    "    if res == True:\n",
    "        crit = test(F, df1, df2)\n",
    "        print(f'{'-'*60}')\n",
    "        print(f'Critical value: {round(crit, 3)}')\n",
    "        print(f'F: {round(F[0][0],3)}')\n",
    "        print(f'beta estimates: {[n for n in beta_est]}')\n",
    "        print(f'True betas: {[n for n in betas]}')\n",
    "    else:\n",
    "        crit = f.ppf(1-0.05, df1, df2)\n",
    "    return crit, F\n",
    "    "
   ]
  },
  {
   "cell_type": "code",
   "execution_count": 40,
   "metadata": {},
   "outputs": [
    {
     "name": "stdout",
     "output_type": "stream",
     "text": [
      "Accept H0\n",
      "------------------------------------------------------------\n",
      "Critical value: 2.614\n",
      "F: 0.474\n",
      "beta estimates: [array([0.95745554]), array([5.10621081]), array([2.94763745]), array([7.94125097])]\n",
      "True betas: [array([1]), array([5]), array([3]), array([8])]\n"
     ]
    }
   ],
   "source": [
    "betas = np.array([1,5,3,8]).reshape((4,1))\n",
    "R, r = make_R_r(1,3, [1,2,3], betas=betas)\n",
    "crit, F = sim(betas, R, r)"
   ]
  },
  {
   "cell_type": "code",
   "execution_count": 41,
   "metadata": {},
   "outputs": [],
   "source": [
    "def loop(betas,R, r, iter = 1000):\n",
    "    n = 0\n",
    "    reject = 0\n",
    "    for i in range(iter):\n",
    "        crit, F = sim(betas, R, r, res=False)\n",
    "        if F>crit:\n",
    "            reject += 1\n",
    "        else:\n",
    "            pass\n",
    "        n += 1\n",
    "    return reject, n\n",
    "        \n",
    "    "
   ]
  },
  {
   "cell_type": "markdown",
   "metadata": {},
   "source": [
    "## 3) b)"
   ]
  },
  {
   "cell_type": "code",
   "execution_count": 42,
   "metadata": {},
   "outputs": [
    {
     "name": "stdout",
     "output_type": "stream",
     "text": [
      "Test 1\n",
      "True beta values [array([1]), array([5]), array([3]), array([8])]\n",
      "Rejected tests: 58\n",
      "Out of: 1000\n",
      "5.8% of tests were rejected at level 0.05\n",
      "------------------------------------------------------------\n",
      "Test 2\n",
      "True beta values [array([2]), array([4]), array([1]), array([9])]\n",
      "Rejected tests: 37\n",
      "Out of: 1000\n",
      "3.7% of tests were rejected at level 0.05\n",
      "------------------------------------------------------------\n",
      "Test 3\n",
      "True beta values [array([1]), array([2]), array([1]), array([2])]\n",
      "Rejected tests: 57\n",
      "Out of: 1000\n",
      "5.7% of tests were rejected at level 0.05\n",
      "------------------------------------------------------------\n",
      "Test 4\n",
      "True beta values [array([1]), array([5]), array([2]), array([8]), array([4])]\n",
      "Rejected tests: 55\n",
      "Out of: 1000\n",
      "5.5% of tests were rejected at level 0.05\n",
      "------------------------------------------------------------\n"
     ]
    }
   ],
   "source": [
    "a = np.array([1,5,3,8]).reshape((4,1))\n",
    "R_a, r_a = make_R_r(1,3, [1,2,3], betas=a)\n",
    "\n",
    "b = np.array([2,4,1,9]).reshape((4,1))\n",
    "R_b, r_b = make_R_r(1,2, [1,3], betas=b)\n",
    "\n",
    "c = np.array([1,2,1,2]).reshape((4,1))\n",
    "R_c, r_c = make_R_r([1,2], 0, betas=c)\n",
    "\n",
    "d = np.array([1,5,2,8,4]).reshape((5,1))\n",
    "R_d, r_d = make_R_r([1,2], 0, betas=d)\n",
    "\n",
    "test_sets = [(a, R_a, r_a), (b, R_b, r_b), (c, R_c, r_c), (d, R_d, r_d)]\n",
    "i = 1\n",
    "for betas, R, r in test_sets:\n",
    "    rej, n = loop(betas, R,r)\n",
    "    print(f'Test {i}')\n",
    "    print(f'True beta values {list(betas)}')\n",
    "    print(f'Rejected tests: {rej}')\n",
    "    print(f'Out of: {n}')\n",
    "    print(f'{round(rej/n *100,2)}% of tests were rejected at level 0.05')\n",
    "    print(f'{'-'*60}')\n",
    "    \n",
    "    i += 1\n",
    "\n"
   ]
  },
  {
   "cell_type": "code",
   "execution_count": null,
   "metadata": {},
   "outputs": [],
   "source": []
  }
 ],
 "metadata": {
  "kernelspec": {
   "display_name": "base",
   "language": "python",
   "name": "python3"
  },
  "language_info": {
   "codemirror_mode": {
    "name": "ipython",
    "version": 3
   },
   "file_extension": ".py",
   "mimetype": "text/x-python",
   "name": "python",
   "nbconvert_exporter": "python",
   "pygments_lexer": "ipython3",
   "version": "3.12.2"
  }
 },
 "nbformat": 4,
 "nbformat_minor": 2
}
